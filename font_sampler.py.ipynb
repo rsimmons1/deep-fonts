{
 "cells": [
  {
   "cell_type": "code",
   "execution_count": 269,
   "metadata": {
    "collapsed": false,
    "deletable": true,
    "editable": true
   },
   "outputs": [
    {
     "name": "stdout",
     "output_type": "stream",
     "text": [
      "float64\n",
      "loading model...\n"
     ]
    }
   ],
   "source": [
    "import random\n",
    "import numpy\n",
    "import theano\n",
    "import model\n",
    "import time\n",
    "\n",
    "def timer(func):\n",
    "    def wrapper(*args, **kwargs):\n",
    "        t1 = time.time()\n",
    "        res = func(*args, **kwargs)\n",
    "        t2 = time.time()\n",
    "        print(\"It took {} seconds to excecute.\".format(t2-t1))\n",
    "        return res\n",
    "    \n",
    "    return wrapper\n",
    "\n",
    "m = model.Model(artificial_font=True)\n",
    "m.try_load()\n",
    "run_fn = m.get_run_fn()\n",
    "W = m.get_font_embeddings()\n",
    "cov = numpy.cov(W.T)\n",
    "imgs = []\n",
    "font_vects = []\n",
    "def generate_font():\n",
    "    return numpy.random.multivariate_normal(mean=numpy.zeros(m.d), cov=cov)\n",
    "\n",
    "def generate_input(n_fonts=5):\n",
    "    fonts = [generate_font() for f in xrange(n_fonts)]\n",
    "    for f in xrange(n_fonts):\n",
    "        a, b = fonts[f], fonts[(f+1)%n_fonts]\n",
    "        for p in numpy.linspace(0, 1, 1):\n",
    "            batch_is = numpy.zeros((m.k, m.d), dtype=theano.config.floatX)\n",
    "            batch_js = numpy.zeros((m.k,), dtype=numpy.int32)\n",
    "            for z in xrange(m.k):\n",
    "                batch_is[z] = a * (1-p) + b * p\n",
    "                batch_js[z] = z\n",
    "\n",
    "            yield batch_is, batch_js\n",
    "\n",
    "# # Print one character from result\n",
    "# import PIL\n",
    "# data = run_fn(input_i,input_j).reshape((62, 64, 64))\n",
    "# PIL.Image.fromarray(numpy.uint8(((1.0 - data[10]) * 255))).show()"
   ]
  },
  {
   "cell_type": "code",
   "execution_count": 274,
   "metadata": {
    "collapsed": false,
    "deletable": true,
    "editable": true
   },
   "outputs": [
    {
     "name": "stdout",
     "output_type": "stream",
     "text": [
      "Letter Coordinate: (0, 1)\n",
      "It took 4.3559589386 seconds to excecute.\n"
     ]
    },
    {
     "data": {
      "image/png": "[encoded data removed]",
      "text/plain": [
       "<PIL.Image.Image image mode=L size=64x64 at 0x7F1B7FDCE690>"
      ]
     },
     "execution_count": 274,
     "metadata": {},
     "output_type": "execute_result"
    }
   ],
   "source": [
    "def letter_coord_finder(character='a'):\n",
    "    c_val = ord(character)\n",
    "    location = 0\n",
    "    alphabet_length = 26\n",
    "    if c_val >= 48 and c_val <= 58 :\n",
    "        location = (c_val - 48) + alphabet_length*2\n",
    "    elif c_val >= 65 and c_val <= 90:\n",
    "        location = (c_val - 65)\n",
    "    elif c_val >= 97 and c_val <= 122:\n",
    "        location = (c_val - 97) + alphabet_length\n",
    "    else:\n",
    "        raise Exception('Character Out of Range')\n",
    "    return (location / 8, location % 8) #cols are 8 long\n",
    "\n",
    "@timer\n",
    "def generate_training_data(n_examples=10, cropped_letter='B'):\n",
    "    let_c = letter_coord_finder(cropped_letter)\n",
    "    print(\"Letter Coordinate: ({}, {})\".format(*let_c))\n",
    "    numpy.random.seed(100)\n",
    "    letter_size = 64\n",
    "    crop_coords = (letter_size*let_c[1], letter_size*let_c[0], letter_size*(let_c[1]+1), letter_size*(let_c[0]+1)) # Location of B in generated Image\n",
    "    X_train = []\n",
    "    y_train = []\n",
    "    for input_i, input_j in generate_input(n_examples):\n",
    "        img = model.draw_grid(run_fn(input_i, input_j))\n",
    "        X_train.append(numpy.array(img.crop(crop_coords)))\n",
    "        y_train.append(input_i[0])\n",
    "    return X_train, y_train\n",
    "\n",
    "X,Y = generate_training_data(100)\n",
    "PIL.Image.fromarray(X[1])\n"
   ]
  },
  {
   "cell_type": "code",
   "execution_count": null,
   "metadata": {
    "collapsed": true
   },
   "outputs": [],
   "source": []
  }
 ],
 "metadata": {
  "kernelspec": {
   "display_name": "Python 2",
   "language": "python",
   "name": "python2"
  },
  "language_info": {
   "codemirror_mode": {
    "name": "ipython",
    "version": 2
   },
   "file_extension": ".py",
   "mimetype": "text/x-python",
   "name": "python",
   "nbconvert_exporter": "python",
   "pygments_lexer": "ipython2",
   "version": "2.7.12"
  }
 },
 "nbformat": 4,
 "nbformat_minor": 2
}
